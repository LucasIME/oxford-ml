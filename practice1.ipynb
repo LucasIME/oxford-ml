{
 "cells": [
  {
   "cell_type": "markdown",
   "metadata": {},
   "source": [
    " # Practice 1"
   ]
  },
  {
   "cell_type": "code",
   "execution_count": 4,
   "metadata": {},
   "outputs": [
    {
     "name": "stdout",
     "output_type": "stream",
     "text": [
      "\n",
      " 1  2  3\n",
      " 4  5  6\n",
      " 7  8  9\n",
      "[torch.FloatTensor of size 3x3]\n",
      "\n"
     ]
    }
   ],
   "source": [
    "import torch\n",
    "t = torch.Tensor([[1, 2, 3], [4, 5, 6], [7, 8, 9]])\n",
    "print(t)"
   ]
  },
  {
   "cell_type": "markdown",
   "metadata": {},
   "source": [
    "## Question 1"
   ]
  },
  {
   "cell_type": "code",
   "execution_count": 7,
   "metadata": {},
   "outputs": [
    {
     "name": "stdout",
     "output_type": "stream",
     "text": [
      "\n",
      " 2\n",
      " 5\n",
      " 8\n",
      "[torch.FloatTensor of size 3]\n",
      "\n",
      "\n",
      " 2\n",
      " 5\n",
      " 8\n",
      "[torch.FloatTensor of size 3]\n",
      "\n",
      "\n",
      " 2\n",
      " 5\n",
      " 8\n",
      "[torch.FloatTensor of size 3]\n",
      "\n"
     ]
    }
   ],
   "source": [
    "print(t[:, 1])\n",
    "print(t.narrow(1, 1, 1).squeeze())\n",
    "print(t.split(1, 1)[1].squeeze())"
   ]
  },
  {
   "cell_type": "markdown",
   "metadata": {},
   "source": [
    "## Question 2"
   ]
  },
  {
   "cell_type": "markdown",
   "metadata": {},
   "source": [
    "Tensors are multi-dimensional matrices that contain elements of a single data type.\n",
    "Storages is a contiguous, one-dimensional array of a single data type.\n",
    "In PyTorch, every Tensor has a corresponding storage of the same data type."
   ]
  }
 ],
 "metadata": {
  "kernelspec": {
   "display_name": "orxfor-venv",
   "language": "python",
   "name": "orxfor-venv"
  },
  "language_info": {
   "codemirror_mode": {
    "name": "ipython",
    "version": 3
   },
   "file_extension": ".py",
   "mimetype": "text/x-python",
   "name": "python",
   "nbconvert_exporter": "python",
   "pygments_lexer": "ipython3",
   "version": "3.5.2"
  }
 },
 "nbformat": 4,
 "nbformat_minor": 2
}
